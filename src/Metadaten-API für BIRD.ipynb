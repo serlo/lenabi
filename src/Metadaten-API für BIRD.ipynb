{
 "cells": [
  {
   "cell_type": "markdown",
   "id": "sapphire-happening",
   "metadata": {},
   "source": [
    "# Metadaten-API für BIRD\n",
    "\n",
    "Über den Endpunkt https://lenabi.serlo-staging.dev/api/metadata/bird_academy können die Metadaten unserer Lernressourcen im XML-Format von BIRD abgefragt werden. Dieser Endpunkt greift auf unser [neue prototypische Metadaten-API](https://lenabi.serlo.org/metadata-api) zu.\n",
    "\n",
    "Das folgende Skript zeigt, dass dieser Endpunkt dem BIRD XML Schema entspricht:"
   ]
  },
  {
   "cell_type": "code",
   "execution_count": 8,
   "id": "juvenile-deposit",
   "metadata": {},
   "outputs": [
    {
     "name": "stdout",
     "output_type": "stream",
     "text": [
      "/tmp/serlo.xml validates\n"
     ]
    }
   ],
   "source": [
    "%%bash\n",
    "\n",
    "# Path to the XML schema of BIRD\n",
    "BIRD_XSD=\"/tmp/bird.xsd\"\n",
    "\n",
    "# Target file where the metadata of Serlo shall be saved\n",
    "TARGET=\"/tmp/serlo.xml\"\n",
    "\n",
    "if [ -e \"$BIRD_XSD\" ]; then    \n",
    "    # Save Serlo metadata to disk \n",
    "    curl --silent https://lenabi.serlo-staging.dev/api/metadata/bird_academy > \"$TARGET\"\n",
    "\n",
    "    # Check the XML file\n",
    "    xmllint --noout --schema \"$BIRD_XSD\" \"$TARGET\" 2>&1\n",
    "else\n",
    "    echo \"Error: You need to save the BIRD XSD at $BIRD_XSD\"\n",
    "fi"
   ]
  }
 ],
 "metadata": {
  "kernelspec": {
   "display_name": "Python 3",
   "language": "python",
   "name": "python3"
  },
  "language_info": {
   "codemirror_mode": {
    "name": "ipython",
    "version": 3
   },
   "file_extension": ".py",
   "mimetype": "text/x-python",
   "name": "python",
   "nbconvert_exporter": "python",
   "pygments_lexer": "ipython3",
   "version": "3.9.1"
  }
 },
 "nbformat": 4,
 "nbformat_minor": 5
}
